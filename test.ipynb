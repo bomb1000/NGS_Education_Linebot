{
 "cells": [
  {
   "cell_type": "code",
   "execution_count": 2,
   "id": "308040a7-0d9f-4960-9613-fc091f38cd51",
   "metadata": {},
   "outputs": [
    {
     "name": "stdout",
     "output_type": "stream",
     "text": [
      "Requirement already satisfied: Flask in c:\\users\\micha\\anaconda3\\envs\\webcrawling\\lib\\site-packages (from -r requirements.txt (line 1)) (3.0.3)\n",
      "Requirement already satisfied: line-bot-sdk in c:\\users\\micha\\anaconda3\\envs\\webcrawling\\lib\\site-packages (from -r requirements.txt (line 2)) (3.11.0)\n",
      "Requirement already satisfied: openai in c:\\users\\micha\\anaconda3\\envs\\webcrawling\\lib\\site-packages (from -r requirements.txt (line 3)) (1.28.1)\n",
      "Requirement already satisfied: psycopg2-binary in c:\\users\\micha\\anaconda3\\envs\\webcrawling\\lib\\site-packages (from -r requirements.txt (line 4)) (2.9.9)\n",
      "Requirement already satisfied: SQLAlchemy in c:\\users\\micha\\anaconda3\\envs\\webcrawling\\lib\\site-packages (from -r requirements.txt (line 5)) (2.0.27)\n",
      "Requirement already satisfied: tiktoken in c:\\users\\micha\\anaconda3\\envs\\webcrawling\\lib\\site-packages (from -r requirements.txt (line 6)) (0.7.0)\n",
      "Requirement already satisfied: langchain-openai in c:\\users\\micha\\anaconda3\\envs\\webcrawling\\lib\\site-packages (from -r requirements.txt (line 7)) (0.1.7)\n",
      "Requirement already satisfied: langchain-core in c:\\users\\micha\\anaconda3\\envs\\webcrawling\\lib\\site-packages (from -r requirements.txt (line 8)) (0.2.1)\n",
      "Requirement already satisfied: langchain in c:\\users\\micha\\anaconda3\\envs\\webcrawling\\lib\\site-packages (from -r requirements.txt (line 9)) (0.2.1)\n",
      "Requirement already satisfied: langchain-community in c:\\users\\micha\\anaconda3\\envs\\webcrawling\\lib\\site-packages (from -r requirements.txt (line 10)) (0.2.1)\n",
      "Collecting configparser (from -r requirements.txt (line 11))\n",
      "  Downloading configparser-7.0.0-py3-none-any.whl.metadata (5.4 kB)\n",
      "Requirement already satisfied: gunicorn in c:\\users\\micha\\anaconda3\\envs\\webcrawling\\lib\\site-packages (from -r requirements.txt (line 12)) (22.0.0)\n",
      "Requirement already satisfied: requests in c:\\users\\micha\\anaconda3\\envs\\webcrawling\\lib\\site-packages (from -r requirements.txt (line 13)) (2.31.0)\n",
      "Requirement already satisfied: pgvector in c:\\users\\micha\\anaconda3\\envs\\webcrawling\\lib\\site-packages (from -r requirements.txt (line 14)) (0.2.5)\n",
      "Requirement already satisfied: Werkzeug>=3.0.0 in c:\\users\\micha\\anaconda3\\envs\\webcrawling\\lib\\site-packages (from Flask->-r requirements.txt (line 1)) (3.0.2)\n",
      "Requirement already satisfied: Jinja2>=3.1.2 in c:\\users\\micha\\anaconda3\\envs\\webcrawling\\lib\\site-packages (from Flask->-r requirements.txt (line 1)) (3.1.3)\n",
      "Requirement already satisfied: itsdangerous>=2.1.2 in c:\\users\\micha\\anaconda3\\envs\\webcrawling\\lib\\site-packages (from Flask->-r requirements.txt (line 1)) (2.2.0)\n",
      "Requirement already satisfied: click>=8.1.3 in c:\\users\\micha\\anaconda3\\envs\\webcrawling\\lib\\site-packages (from Flask->-r requirements.txt (line 1)) (8.1.7)\n",
      "Requirement already satisfied: blinker>=1.6.2 in c:\\users\\micha\\anaconda3\\envs\\webcrawling\\lib\\site-packages (from Flask->-r requirements.txt (line 1)) (1.7.0)\n",
      "Requirement already satisfied: importlib-metadata>=3.6.0 in c:\\users\\micha\\anaconda3\\envs\\webcrawling\\lib\\site-packages (from Flask->-r requirements.txt (line 1)) (7.0.0)\n",
      "Requirement already satisfied: urllib3<3,>=2.0.5 in c:\\users\\micha\\anaconda3\\envs\\webcrawling\\lib\\site-packages (from line-bot-sdk->-r requirements.txt (line 2)) (2.1.0)\n",
      "Requirement already satisfied: aiohttp==3.9.5 in c:\\users\\micha\\anaconda3\\envs\\webcrawling\\lib\\site-packages (from line-bot-sdk->-r requirements.txt (line 2)) (3.9.5)\n",
      "Requirement already satisfied: future in c:\\users\\micha\\anaconda3\\envs\\webcrawling\\lib\\site-packages (from line-bot-sdk->-r requirements.txt (line 2)) (1.0.0)\n",
      "Requirement already satisfied: pydantic<3,>=2.0.3 in c:\\users\\micha\\anaconda3\\envs\\webcrawling\\lib\\site-packages (from line-bot-sdk->-r requirements.txt (line 2)) (2.6.3)\n",
      "Requirement already satisfied: aenum>=3.1.11 in c:\\users\\micha\\anaconda3\\envs\\webcrawling\\lib\\site-packages (from line-bot-sdk->-r requirements.txt (line 2)) (3.1.15)\n",
      "Requirement already satisfied: python-dateutil>=2.5.3 in c:\\users\\micha\\anaconda3\\envs\\webcrawling\\lib\\site-packages (from line-bot-sdk->-r requirements.txt (line 2)) (2.8.2)\n",
      "Requirement already satisfied: Deprecated in c:\\users\\micha\\anaconda3\\envs\\webcrawling\\lib\\site-packages (from line-bot-sdk->-r requirements.txt (line 2)) (1.2.14)\n",
      "Requirement already satisfied: charset-normalizer<4,>=2 in c:\\users\\micha\\anaconda3\\envs\\webcrawling\\lib\\site-packages (from requests->-r requirements.txt (line 13)) (2.0.4)\n",
      "Requirement already satisfied: idna<4,>=2.5 in c:\\users\\micha\\anaconda3\\envs\\webcrawling\\lib\\site-packages (from requests->-r requirements.txt (line 13)) (3.4)\n",
      "Requirement already satisfied: certifi>=2017.4.17 in c:\\users\\micha\\anaconda3\\envs\\webcrawling\\lib\\site-packages (from requests->-r requirements.txt (line 13)) (2024.2.2)\n",
      "Requirement already satisfied: aiosignal>=1.1.2 in c:\\users\\micha\\anaconda3\\envs\\webcrawling\\lib\\site-packages (from aiohttp==3.9.5->line-bot-sdk->-r requirements.txt (line 2)) (1.3.1)\n",
      "Requirement already satisfied: attrs>=17.3.0 in c:\\users\\micha\\anaconda3\\envs\\webcrawling\\lib\\site-packages (from aiohttp==3.9.5->line-bot-sdk->-r requirements.txt (line 2)) (23.2.0)\n",
      "Requirement already satisfied: frozenlist>=1.1.1 in c:\\users\\micha\\anaconda3\\envs\\webcrawling\\lib\\site-packages (from aiohttp==3.9.5->line-bot-sdk->-r requirements.txt (line 2)) (1.4.1)\n",
      "Requirement already satisfied: multidict<7.0,>=4.5 in c:\\users\\micha\\anaconda3\\envs\\webcrawling\\lib\\site-packages (from aiohttp==3.9.5->line-bot-sdk->-r requirements.txt (line 2)) (6.0.5)\n",
      "Requirement already satisfied: yarl<2.0,>=1.0 in c:\\users\\micha\\anaconda3\\envs\\webcrawling\\lib\\site-packages (from aiohttp==3.9.5->line-bot-sdk->-r requirements.txt (line 2)) (1.9.4)\n",
      "Requirement already satisfied: async-timeout<5.0,>=4.0 in c:\\users\\micha\\anaconda3\\envs\\webcrawling\\lib\\site-packages (from aiohttp==3.9.5->line-bot-sdk->-r requirements.txt (line 2)) (4.0.3)\n",
      "Requirement already satisfied: anyio<5,>=3.5.0 in c:\\users\\micha\\anaconda3\\envs\\webcrawling\\lib\\site-packages (from openai->-r requirements.txt (line 3)) (4.2.0)\n",
      "Requirement already satisfied: distro<2,>=1.7.0 in c:\\users\\micha\\anaconda3\\envs\\webcrawling\\lib\\site-packages (from openai->-r requirements.txt (line 3)) (1.9.0)\n",
      "Requirement already satisfied: httpx<1,>=0.23.0 in c:\\users\\micha\\anaconda3\\envs\\webcrawling\\lib\\site-packages (from openai->-r requirements.txt (line 3)) (0.27.0)\n",
      "Requirement already satisfied: sniffio in c:\\users\\micha\\anaconda3\\envs\\webcrawling\\lib\\site-packages (from openai->-r requirements.txt (line 3)) (1.3.0)\n",
      "Requirement already satisfied: tqdm>4 in c:\\users\\micha\\anaconda3\\envs\\webcrawling\\lib\\site-packages (from openai->-r requirements.txt (line 3)) (4.65.0)\n",
      "Requirement already satisfied: typing-extensions<5,>=4.7 in c:\\users\\micha\\anaconda3\\envs\\webcrawling\\lib\\site-packages (from openai->-r requirements.txt (line 3)) (4.10.0)\n",
      "Requirement already satisfied: greenlet!=0.4.17 in c:\\users\\micha\\anaconda3\\envs\\webcrawling\\lib\\site-packages (from SQLAlchemy->-r requirements.txt (line 5)) (3.0.3)\n",
      "Requirement already satisfied: regex>=2022.1.18 in c:\\users\\micha\\anaconda3\\envs\\webcrawling\\lib\\site-packages (from tiktoken->-r requirements.txt (line 6)) (2023.12.25)\n",
      "Requirement already satisfied: PyYAML>=5.3 in c:\\users\\micha\\anaconda3\\envs\\webcrawling\\lib\\site-packages (from langchain-core->-r requirements.txt (line 8)) (6.0.1)\n",
      "Requirement already satisfied: jsonpatch<2.0,>=1.33 in c:\\users\\micha\\anaconda3\\envs\\webcrawling\\lib\\site-packages (from langchain-core->-r requirements.txt (line 8)) (1.33)\n",
      "Requirement already satisfied: langsmith<0.2.0,>=0.1.0 in c:\\users\\micha\\anaconda3\\envs\\webcrawling\\lib\\site-packages (from langchain-core->-r requirements.txt (line 8)) (0.1.63)\n",
      "Requirement already satisfied: packaging<24.0,>=23.2 in c:\\users\\micha\\anaconda3\\envs\\webcrawling\\lib\\site-packages (from langchain-core->-r requirements.txt (line 8)) (23.2)\n",
      "Requirement already satisfied: tenacity<9.0.0,>=8.1.0 in c:\\users\\micha\\anaconda3\\envs\\webcrawling\\lib\\site-packages (from langchain-core->-r requirements.txt (line 8)) (8.2.3)\n",
      "Requirement already satisfied: langchain-text-splitters<0.3.0,>=0.2.0 in c:\\users\\micha\\anaconda3\\envs\\webcrawling\\lib\\site-packages (from langchain->-r requirements.txt (line 9)) (0.2.0)\n",
      "Requirement already satisfied: numpy<2,>=1 in c:\\users\\micha\\anaconda3\\envs\\webcrawling\\lib\\site-packages (from langchain->-r requirements.txt (line 9)) (1.24.3)\n",
      "Requirement already satisfied: dataclasses-json<0.7,>=0.5.7 in c:\\users\\micha\\anaconda3\\envs\\webcrawling\\lib\\site-packages (from langchain-community->-r requirements.txt (line 10)) (0.6.4)\n",
      "Requirement already satisfied: exceptiongroup>=1.0.2 in c:\\users\\micha\\anaconda3\\envs\\webcrawling\\lib\\site-packages (from anyio<5,>=3.5.0->openai->-r requirements.txt (line 3)) (1.2.0)\n",
      "Requirement already satisfied: colorama in c:\\users\\micha\\anaconda3\\envs\\webcrawling\\lib\\site-packages (from click>=8.1.3->Flask->-r requirements.txt (line 1)) (0.4.6)\n",
      "Requirement already satisfied: marshmallow<4.0.0,>=3.18.0 in c:\\users\\micha\\anaconda3\\envs\\webcrawling\\lib\\site-packages (from dataclasses-json<0.7,>=0.5.7->langchain-community->-r requirements.txt (line 10)) (3.21.0)\n",
      "Requirement already satisfied: typing-inspect<1,>=0.4.0 in c:\\users\\micha\\anaconda3\\envs\\webcrawling\\lib\\site-packages (from dataclasses-json<0.7,>=0.5.7->langchain-community->-r requirements.txt (line 10)) (0.9.0)\n",
      "Requirement already satisfied: httpcore==1.* in c:\\users\\micha\\anaconda3\\envs\\webcrawling\\lib\\site-packages (from httpx<1,>=0.23.0->openai->-r requirements.txt (line 3)) (1.0.4)\n",
      "Requirement already satisfied: h11<0.15,>=0.13 in c:\\users\\micha\\anaconda3\\envs\\webcrawling\\lib\\site-packages (from httpcore==1.*->httpx<1,>=0.23.0->openai->-r requirements.txt (line 3)) (0.14.0)\n",
      "Requirement already satisfied: zipp>=0.5 in c:\\users\\micha\\anaconda3\\envs\\webcrawling\\lib\\site-packages (from importlib-metadata>=3.6.0->Flask->-r requirements.txt (line 1)) (3.17.0)\n",
      "Requirement already satisfied: MarkupSafe>=2.0 in c:\\users\\micha\\anaconda3\\envs\\webcrawling\\lib\\site-packages (from Jinja2>=3.1.2->Flask->-r requirements.txt (line 1)) (2.1.3)\n",
      "Requirement already satisfied: jsonpointer>=1.9 in c:\\users\\micha\\anaconda3\\envs\\webcrawling\\lib\\site-packages (from jsonpatch<2.0,>=1.33->langchain-core->-r requirements.txt (line 8)) (2.4)\n",
      "Requirement already satisfied: orjson<4.0.0,>=3.9.14 in c:\\users\\micha\\anaconda3\\envs\\webcrawling\\lib\\site-packages (from langsmith<0.2.0,>=0.1.0->langchain-core->-r requirements.txt (line 8)) (3.9.15)\n",
      "Requirement already satisfied: annotated-types>=0.4.0 in c:\\users\\micha\\anaconda3\\envs\\webcrawling\\lib\\site-packages (from pydantic<3,>=2.0.3->line-bot-sdk->-r requirements.txt (line 2)) (0.6.0)\n",
      "Requirement already satisfied: pydantic-core==2.16.3 in c:\\users\\micha\\anaconda3\\envs\\webcrawling\\lib\\site-packages (from pydantic<3,>=2.0.3->line-bot-sdk->-r requirements.txt (line 2)) (2.16.3)\n",
      "Requirement already satisfied: six>=1.5 in c:\\users\\micha\\anaconda3\\envs\\webcrawling\\lib\\site-packages (from python-dateutil>=2.5.3->line-bot-sdk->-r requirements.txt (line 2)) (1.16.0)\n",
      "Requirement already satisfied: wrapt<2,>=1.10 in c:\\users\\micha\\anaconda3\\envs\\webcrawling\\lib\\site-packages (from Deprecated->line-bot-sdk->-r requirements.txt (line 2)) (1.16.0)\n",
      "Requirement already satisfied: mypy-extensions>=0.3.0 in c:\\users\\micha\\anaconda3\\envs\\webcrawling\\lib\\site-packages (from typing-inspect<1,>=0.4.0->dataclasses-json<0.7,>=0.5.7->langchain-community->-r requirements.txt (line 10)) (1.0.0)\n",
      "Downloading configparser-7.0.0-py3-none-any.whl (16 kB)\n",
      "Installing collected packages: configparser\n",
      "Successfully installed configparser-7.0.0\n"
     ]
    },
    {
     "name": "stderr",
     "output_type": "stream",
     "text": [
      "\n",
      "[notice] A new release of pip is available: 24.0 -> 24.1\n",
      "[notice] To update, run: python.exe -m pip install --upgrade pip\n"
     ]
    }
   ],
   "source": [
    "# !pip install -r requirements.txt"
   ]
  },
  {
   "cell_type": "code",
   "execution_count": null,
   "id": "c8ff39e6-c1f0-4f6e-a048-67df1e5620bd",
   "metadata": {},
   "outputs": [],
   "source": [
    "from flask import Flask, request\n",
    "\n",
    "app = Flask(__name__)\n",
    "\n",
    "@app.route('/webhook', methods=['POST'])\n",
    "def webhook():\n",
    "    data = request.json\n",
    "    # 處理數據...\n",
    "    return 'OK', 200\n",
    "\n",
    "if __name__ == '__main__':\n",
    "    app.run(port=5000)\n"
   ]
  },
  {
   "cell_type": "code",
   "execution_count": 3,
   "id": "b3738bb4-2cc5-4f79-baf6-53927d3040ef",
   "metadata": {},
   "outputs": [
    {
     "name": "stderr",
     "output_type": "stream",
     "text": [
      "\n",
      "[notice] A new release of pip is available: 24.0 -> 24.1\n",
      "[notice] To update, run: python.exe -m pip install --upgrade pip\n"
     ]
    }
   ],
   "source": [
    "# !pip install --upgrade openai --quiet"
   ]
  },
  {
   "cell_type": "code",
   "execution_count": 2,
   "id": "56f8c7ad-5861-4d91-9b9e-7eea2da6351e",
   "metadata": {},
   "outputs": [
    {
     "name": "stdout",
     "output_type": "stream",
     "text": [
      "1.35.4\n"
     ]
    }
   ],
   "source": [
    "import openai\n",
    "print(openai.__version__)"
   ]
  },
  {
   "cell_type": "code",
   "execution_count": 1,
   "id": "b5ba6e90-1ebd-41b2-a914-b607def2a953",
   "metadata": {
    "scrolled": true
   },
   "outputs": [
    {
     "name": "stdin",
     "output_type": "stream",
     "text": [
      "You:  你好\n"
     ]
    },
    {
     "name": "stdout",
     "output_type": "stream",
     "text": [
      "Assistant: 你好！有什么我可以帮助你的吗？\n"
     ]
    },
    {
     "name": "stdin",
     "output_type": "stream",
     "text": [
      "You:  今天天氣如何\n"
     ]
    },
    {
     "name": "stdout",
     "output_type": "stream",
     "text": [
      "Assistant: 抱歉，我無法提供即時的天氣資訊。不過，你可以通過手機上的天氣應用程式或是訪問天氣預報網站來查詢今天的天氣情況。如果你需要我幫助你使用這些應用程式或網站，請讓我知道。\n"
     ]
    },
    {
     "name": "stdin",
     "output_type": "stream",
     "text": [
      "You:  幫我查查今天的新聞\n"
     ]
    },
    {
     "name": "stdout",
     "output_type": "stream",
     "text": [
      "Assistant: 抱歉，我無法查詢即時新聞。但是，你可以訪問熱門新聞網站如《中央社》、《聯合報》、《蘋果日報》以及其他新聞網站來獲取最新的資訊。如有其他問題或需要幫助，我隨時為你效勞！\n"
     ]
    },
    {
     "ename": "KeyboardInterrupt",
     "evalue": "Interrupted by user",
     "output_type": "error",
     "traceback": [
      "\u001b[1;31m---------------------------------------------------------------------------\u001b[0m",
      "\u001b[1;31mKeyboardInterrupt\u001b[0m                         Traceback (most recent call last)",
      "Cell \u001b[1;32mIn[1], line 39\u001b[0m\n\u001b[0;32m     37\u001b[0m \u001b[38;5;28;01mif\u001b[39;00m \u001b[38;5;18m__name__\u001b[39m \u001b[38;5;241m==\u001b[39m \u001b[38;5;124m\"\u001b[39m\u001b[38;5;124m__main__\u001b[39m\u001b[38;5;124m\"\u001b[39m:\n\u001b[0;32m     38\u001b[0m     \u001b[38;5;28;01mwhile\u001b[39;00m \u001b[38;5;28;01mTrue\u001b[39;00m:\n\u001b[1;32m---> 39\u001b[0m         user_input \u001b[38;5;241m=\u001b[39m \u001b[38;5;28;43minput\u001b[39;49m\u001b[43m(\u001b[49m\u001b[38;5;124;43m\"\u001b[39;49m\u001b[38;5;124;43mYou: \u001b[39;49m\u001b[38;5;124;43m\"\u001b[39;49m\u001b[43m)\u001b[49m\n\u001b[0;32m     40\u001b[0m         \u001b[38;5;28;01mif\u001b[39;00m user_input\u001b[38;5;241m.\u001b[39mlower() \u001b[38;5;129;01min\u001b[39;00m [\u001b[38;5;124m'\u001b[39m\u001b[38;5;124mexit\u001b[39m\u001b[38;5;124m'\u001b[39m, \u001b[38;5;124m'\u001b[39m\u001b[38;5;124mquit\u001b[39m\u001b[38;5;124m'\u001b[39m]:\n\u001b[0;32m     41\u001b[0m             \u001b[38;5;28;01mbreak\u001b[39;00m\n",
      "File \u001b[1;32m~\\anaconda3\\envs\\webcrawling\\lib\\site-packages\\ipykernel\\kernelbase.py:1262\u001b[0m, in \u001b[0;36mKernel.raw_input\u001b[1;34m(self, prompt)\u001b[0m\n\u001b[0;32m   1260\u001b[0m     msg \u001b[38;5;241m=\u001b[39m \u001b[38;5;124m\"\u001b[39m\u001b[38;5;124mraw_input was called, but this frontend does not support input requests.\u001b[39m\u001b[38;5;124m\"\u001b[39m\n\u001b[0;32m   1261\u001b[0m     \u001b[38;5;28;01mraise\u001b[39;00m StdinNotImplementedError(msg)\n\u001b[1;32m-> 1262\u001b[0m \u001b[38;5;28;01mreturn\u001b[39;00m \u001b[38;5;28;43mself\u001b[39;49m\u001b[38;5;241;43m.\u001b[39;49m\u001b[43m_input_request\u001b[49m\u001b[43m(\u001b[49m\n\u001b[0;32m   1263\u001b[0m \u001b[43m    \u001b[49m\u001b[38;5;28;43mstr\u001b[39;49m\u001b[43m(\u001b[49m\u001b[43mprompt\u001b[49m\u001b[43m)\u001b[49m\u001b[43m,\u001b[49m\n\u001b[0;32m   1264\u001b[0m \u001b[43m    \u001b[49m\u001b[38;5;28;43mself\u001b[39;49m\u001b[38;5;241;43m.\u001b[39;49m\u001b[43m_parent_ident\u001b[49m\u001b[43m[\u001b[49m\u001b[38;5;124;43m\"\u001b[39;49m\u001b[38;5;124;43mshell\u001b[39;49m\u001b[38;5;124;43m\"\u001b[39;49m\u001b[43m]\u001b[49m\u001b[43m,\u001b[49m\n\u001b[0;32m   1265\u001b[0m \u001b[43m    \u001b[49m\u001b[38;5;28;43mself\u001b[39;49m\u001b[38;5;241;43m.\u001b[39;49m\u001b[43mget_parent\u001b[49m\u001b[43m(\u001b[49m\u001b[38;5;124;43m\"\u001b[39;49m\u001b[38;5;124;43mshell\u001b[39;49m\u001b[38;5;124;43m\"\u001b[39;49m\u001b[43m)\u001b[49m\u001b[43m,\u001b[49m\n\u001b[0;32m   1266\u001b[0m \u001b[43m    \u001b[49m\u001b[43mpassword\u001b[49m\u001b[38;5;241;43m=\u001b[39;49m\u001b[38;5;28;43;01mFalse\u001b[39;49;00m\u001b[43m,\u001b[49m\n\u001b[0;32m   1267\u001b[0m \u001b[43m\u001b[49m\u001b[43m)\u001b[49m\n",
      "File \u001b[1;32m~\\anaconda3\\envs\\webcrawling\\lib\\site-packages\\ipykernel\\kernelbase.py:1305\u001b[0m, in \u001b[0;36mKernel._input_request\u001b[1;34m(self, prompt, ident, parent, password)\u001b[0m\n\u001b[0;32m   1302\u001b[0m \u001b[38;5;28;01mexcept\u001b[39;00m \u001b[38;5;167;01mKeyboardInterrupt\u001b[39;00m:\n\u001b[0;32m   1303\u001b[0m     \u001b[38;5;66;03m# re-raise KeyboardInterrupt, to truncate traceback\u001b[39;00m\n\u001b[0;32m   1304\u001b[0m     msg \u001b[38;5;241m=\u001b[39m \u001b[38;5;124m\"\u001b[39m\u001b[38;5;124mInterrupted by user\u001b[39m\u001b[38;5;124m\"\u001b[39m\n\u001b[1;32m-> 1305\u001b[0m     \u001b[38;5;28;01mraise\u001b[39;00m \u001b[38;5;167;01mKeyboardInterrupt\u001b[39;00m(msg) \u001b[38;5;28;01mfrom\u001b[39;00m \u001b[38;5;28;01mNone\u001b[39;00m\n\u001b[0;32m   1306\u001b[0m \u001b[38;5;28;01mexcept\u001b[39;00m \u001b[38;5;167;01mException\u001b[39;00m:\n\u001b[0;32m   1307\u001b[0m     \u001b[38;5;28mself\u001b[39m\u001b[38;5;241m.\u001b[39mlog\u001b[38;5;241m.\u001b[39mwarning(\u001b[38;5;124m\"\u001b[39m\u001b[38;5;124mInvalid Message:\u001b[39m\u001b[38;5;124m\"\u001b[39m, exc_info\u001b[38;5;241m=\u001b[39m\u001b[38;5;28;01mTrue\u001b[39;00m)\n",
      "\u001b[1;31mKeyboardInterrupt\u001b[0m: Interrupted by user"
     ]
    }
   ],
   "source": [
    "import openai\n",
    "import os\n",
    "import configparser\n",
    "\n",
    "# 設定 OpenAI API 金鑰\n",
    "# 讀取 config.ini 中的配置\n",
    "config = configparser.ConfigParser()\n",
    "config.read('config.ini')\n",
    "\n",
    "# 從配置文件中獲取 OpenAI API 金鑰\n",
    "OPENAI_API_KEY = config['DEFAULT']['OPENAI_API_KEY']\n",
    "openai.api_key = OPENAI_API_KEY\n",
    "\n",
    "def generate_response(user_message):\n",
    "    try:\n",
    "        # completion = client.chat.completions.create(\n",
    "        #     model=MODEL,\n",
    "        #     messages=[\n",
    "        #     {\"role\": \"system\", \"content\": \"You are a helpful assistant. Help me with my math homework!\"}, # <-- This is the system message that provides context to the model\n",
    "        #     {\"role\": \"user\", \"content\": \"Hello! Could you solve 2+2?\"}  # <-- This is the user message for which the model will generate a response\n",
    "        #   ]\n",
    "        # )\n",
    "        response = openai.chat.completions.create(\n",
    "            model=\"gpt-4o\",\n",
    "            messages=[\n",
    "                {\"role\": \"system\", \"content\": \"You are a helpful assistant.\"},\n",
    "                {\"role\": \"user\", \"content\": user_message}\n",
    "            ],\n",
    "            max_tokens=150\n",
    "        )\n",
    "        reply_message = response.choices[0].message.content\n",
    "        # completion.choices[0].message.content\n",
    "        return reply_message\n",
    "    except Exception as e:\n",
    "        return f\"An error occurred: {str(e)}\"\n",
    "\n",
    "if __name__ == \"__main__\":\n",
    "    while True:\n",
    "        user_input = input(\"You: \")\n",
    "        if user_input.lower() in ['exit', 'quit']:\n",
    "            break\n",
    "        response = generate_response(user_input)\n",
    "        print(f\"Assistant: {response}\")\n"
   ]
  },
  {
   "cell_type": "markdown",
   "id": "2547bff6-8bab-43ca-ab4e-3c2f6d5d414f",
   "metadata": {},
   "source": [
    "# 正確調用4o 用法"
   ]
  },
  {
   "cell_type": "code",
   "execution_count": 7,
   "id": "0a8ad345-5a4c-468c-9ce8-5dd118e24990",
   "metadata": {},
   "outputs": [],
   "source": [
    "from openai import OpenAI \n",
    "import os\n",
    "import configparser\n",
    "\n",
    "config = configparser.ConfigParser()\n",
    "config.read('config.ini')\n",
    "\n",
    "# 從配置文件中獲取 OpenAI API 金鑰\n",
    "OPENAI_API_KEY = config['DEFAULT']['OPENAI_API_KEY']\n",
    "client.api_key = OPENAI_API_KEY\n",
    "## Set the API key and model name\n",
    "MODEL=\"gpt-4o\"\n",
    "# client = OpenAI(api_key=os.environ.get(\"OPENAI_API_KEY\", \"<your OpenAI API key if not set as an env var>\"))\n",
    "\n",
    "completion = client.chat.completions.create(\n",
    "  model=MODEL,\n",
    "  messages=[\n",
    "    {\"role\": \"system\", \"content\": \"You are a helpful assistant. Help me with my math homework!\"}, # <-- This is the system message that provides context to the model\n",
    "    {\"role\": \"user\", \"content\": \"Hello! Could you solve 2+2?\"}  # <-- This is the user message for which the model will generate a response\n",
    "  ]\n",
    ")\n",
    "\n",
    "print(\"Assistant: \" + completion.choices[0].message.content)"
   ]
  },
  {
   "cell_type": "code",
   "execution_count": 8,
   "id": "a0c6db96-0fb1-41ce-8da1-9e7e8fb0e34a",
   "metadata": {},
   "outputs": [
    {
     "name": "stdout",
     "output_type": "stream",
     "text": [
      "Assistant: Of course! The sum of 2 + 2 is 4. If you have any more questions or need further assistance with your math homework, feel free to ask!\n"
     ]
    }
   ],
   "source": []
  },
  {
   "cell_type": "code",
   "execution_count": null,
   "id": "b06e9df4-2229-45f6-b8f3-502bbc4f8f04",
   "metadata": {},
   "outputs": [],
   "source": []
  }
 ],
 "metadata": {
  "kernelspec": {
   "display_name": "Python 3 (ipykernel)",
   "language": "python",
   "name": "python3"
  },
  "language_info": {
   "codemirror_mode": {
    "name": "ipython",
    "version": 3
   },
   "file_extension": ".py",
   "mimetype": "text/x-python",
   "name": "python",
   "nbconvert_exporter": "python",
   "pygments_lexer": "ipython3",
   "version": "3.8.19"
  }
 },
 "nbformat": 4,
 "nbformat_minor": 5
}
